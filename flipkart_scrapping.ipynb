{
 "cells": [
  {
   "cell_type": "code",
   "execution_count": 1,
   "id": "a7873e4c-9ab4-4174-b837-021780af82a4",
   "metadata": {},
   "outputs": [],
   "source": [
    "import time\n",
    "import random\n",
    "from tabulate import tabulate\n",
    "from selenium import webdriver\n",
    "from bs4 import BeautifulSoup as bs\n",
    "from selenium.webdriver.common.by import By\n",
    "from selenium.webdriver.common.keys import Keys\n",
    "from selenium.webdriver.chrome.service import Service"
   ]
  },
  {
   "cell_type": "code",
   "execution_count": 2,
   "id": "ffad4163-a73b-4119-84d2-37060bf4d196",
   "metadata": {},
   "outputs": [],
   "source": [
    "path = 'chromedriver-mac-x64/chromedriver'\n",
    "ser = Service(path)\n",
    "driver = webdriver.Chrome(service=ser)\n",
    "driver.maximize_window()"
   ]
  },
  {
   "cell_type": "code",
   "execution_count": 3,
   "id": "601674ba-236e-4055-9a78-4db805760257",
   "metadata": {},
   "outputs": [
    {
     "name": "stdout",
     "output_type": "stream",
     "text": [
      "Online Shopping Site for Mobiles, Electronics, Furniture, Grocery, Lifestyle, Books & More. Best Offers!\n"
     ]
    },
    {
     "name": "stdin",
     "output_type": "stream",
     "text": [
      "enter your query :  laptops\n"
     ]
    }
   ],
   "source": [
    "#open flipkart homepage\n",
    "url = \"https://www.flipkart.com/\"\n",
    "driver.get(url)\n",
    "print(driver.title)\n",
    "\n",
    "#search query\n",
    "serch_box = driver.find_element(By.NAME,'q')\n",
    "time.sleep(2)\n",
    "serch_box.clear()\n",
    "time.sleep(2)\n",
    "inp = input(\"enter your query : \")\n",
    "serch_box.send_keys(inp)\n",
    "time.sleep(2)\n",
    "serch_box.send_keys(Keys.RETURN)\n",
    "\n",
    "#connection\n",
    "con = driver.page_source"
   ]
  },
  {
   "cell_type": "code",
   "execution_count": 4,
   "id": "ee5db610-c782-453f-8346-319087cb6c95",
   "metadata": {},
   "outputs": [],
   "source": [
    "#scrapping data using bs4\n",
    "soup = bs(con,'html.parser')\n",
    "\n",
    "#scrapping data for laptop\n",
    "laptops = soup.find_all('div', attrs={'class':'tUxRFH'})\n",
    "\n",
    "data = [['Name','Price','Rating']]\n",
    "for lap in laptops:\n",
    "    #title\n",
    "    title = lap.find_all('div',attrs={'class':'KzDlHZ'})\n",
    "    title = title[0].text\n",
    "    title = title.split('-')[0]\n",
    "    # price\n",
    "    price = lap.find_all('div',attrs={'class':'Nx9bqj _4b5DiR'})\n",
    "    price = price[0].text\n",
    "    try :\n",
    "        # rating\n",
    "        rating = lap.find_all('div',attrs={'class':'XQDdHH'})\n",
    "        rating = rating[0].text\n",
    "    except:\n",
    "        rating = 'Not Available'\n",
    "    data.append([title,price,rating])"
   ]
  },
  {
   "cell_type": "code",
   "execution_count": 5,
   "id": "9cfd82d8-e303-43e0-b4bd-d60f0bd19697",
   "metadata": {},
   "outputs": [],
   "source": [
    "driver.close()"
   ]
  },
  {
   "cell_type": "code",
   "execution_count": 6,
   "id": "5c2bc1f6-9095-49e3-b815-e25797f29307",
   "metadata": {},
   "outputs": [
    {
     "name": "stdout",
     "output_type": "stream",
     "text": [
      "|:--------------------------------------------------------|:--------|:--------------|\n",
      "| Name                                                    | Price   | Rating        |\n",
      "| ZEBRONICS Pro Series Y Intel Core i5 11th Gen 1155G7    | ₹25,990 | 3.9           |\n",
      "| ASUS Chromebook Intel Celeron Dual Core N4500           | ₹13,990 | 3.8           |\n",
      "| Lenovo V15 Intel Celeron Dual Core 4th Gen              | ₹19,990 | 4             |\n",
      "| Apple 2020 Macbook Air Apple M1                         | ₹71,990 | 4.7           |\n",
      "| Lenovo IdeaPad Gaming 3 AMD Ryzen 7 Octa Core 6800H     | ₹71,500 | 4.5           |\n",
      "| Lenovo V15 AMD Ryzen 3 Quad Core 7320U                  | ₹25,990 | 4.3           |\n",
      "| ASUS X1502ZA Intel Core i5 12th Gen 1235U               | ₹46,990 | 3.9           |\n",
      "| Lenovo IdeaPad Slim 3 Intel Core i3 12th Gen 1215U      | ₹29,990 | 4.1           |\n",
      "| Lenovo IdeaPad Slim 3 Intel Core i3 12th Gen 1215U      | ₹37,990 | 4.2           |\n",
      "| Acer Swift Go 14 EVO OLED Intel Core i5 13th Gen 13500H | ₹59,990 | 4.3           |\n",
      "| Acer Intel Celeron Dual Core N4500                      | ₹16,990 | 3.9           |\n",
      "| Lenovo IdeaPad 3 Intel Core i7 12th Gen 1255U           | ₹59,990 | Not Available |\n",
      "| HP AMD Ryzen 3 Quad Core 5300U                          | ₹31,990 | 4.2           |\n",
      "| HP 255 G9 841W6pa AMD Ryzen 3 Dual Core                 | ₹23,990 | 3.7           |\n",
      "| ASUS VivoBook 15 (2022) Intel Celeron Quad Core N4020   | ₹20,990 | 4.1           |\n",
      "| HP AMD Ryzen 7 Octa Core 5700U                          | ₹60,990 | Not Available |\n",
      "| ZEBRONICS Pro Series Z Intel Core i7 12th Gen 1255U     | ₹36,990 | 3.9           |\n",
      "| Lenovo IdeaPad Slim 3 Intel Core i5 12th Gen 1235U      | ₹46,990 | 4.2           |\n",
      "| ASUS Vivobook 15 Intel Core i3 11th Gen 1115G4          | ₹28,990 | 4.2           |\n",
      "| Lenovo Yoga 7 WUXGA                                     | ₹91,190 | Not Available |\n",
      "| Lenovo IdeaPad Slim 5 Intel Core Ultra 5 125H           | ₹78,990 | 4.4           |\n",
      "| SAMSUNG Galaxy Book3 Intel Core i7 13th Gen 1355U       | ₹71,990 | 4.4           |\n",
      "| CHUWI Intel Celeron Quad Core 12th Gen N100             | ₹18,990 | 4             |\n",
      "| HP 255 G9 AMD Ryzen 3 Dual Core R3 3250                 | ₹26,790 | 4             |\n"
     ]
    }
   ],
   "source": [
    "#final output\n",
    "tabulate(data)\n",
    "print(tabulate(data,tablefmt='pipe'))"
   ]
  },
  {
   "cell_type": "code",
   "execution_count": null,
   "id": "6fb3730d-c383-4957-b8e4-1e60056fd813",
   "metadata": {},
   "outputs": [],
   "source": []
  }
 ],
 "metadata": {
  "kernelspec": {
   "display_name": "Python 3 (ipykernel)",
   "language": "python",
   "name": "python3"
  },
  "language_info": {
   "codemirror_mode": {
    "name": "ipython",
    "version": 3
   },
   "file_extension": ".py",
   "mimetype": "text/x-python",
   "name": "python",
   "nbconvert_exporter": "python",
   "pygments_lexer": "ipython3",
   "version": "3.11.2"
  }
 },
 "nbformat": 4,
 "nbformat_minor": 5
}
